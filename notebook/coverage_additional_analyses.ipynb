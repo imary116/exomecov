{
 "cells": [
  {
   "cell_type": "code",
   "execution_count": 1,
   "id": "composed-darkness",
   "metadata": {},
   "outputs": [],
   "source": [
    "import hail as hl \n",
    "import subprocess"
   ]
  },
  {
   "cell_type": "markdown",
   "id": "molecular-trigger",
   "metadata": {},
   "source": [
    "### check if file paths are accessible "
   ]
  },
  {
   "cell_type": "code",
   "execution_count": null,
   "id": "signal-premiere",
   "metadata": {},
   "outputs": [],
   "source": [
    "# if the path is accessible, return 'True' if not return 'False'\n",
    "def path_works(path):\n",
    "    if subprocess.call(['gsutil', 'ls', path]) == 0:\n",
    "        return(True)\n",
    "    else:\n",
    "        return(False)"
   ]
  },
  {
   "cell_type": "code",
   "execution_count": null,
   "id": "optical-tamil",
   "metadata": {},
   "outputs": [],
   "source": [
    "paths =[\"gs://fc-1b3c48d4-1260-4477-ab89-9944a365a545/SCZ_Pulver_JHU_WES/C1622/Exome/P887751002D/v1/P887751002D.cram\",\"gs://fc-6723cd5f-50f8-4828-a8e5-df42ad20af86/dalio_dutchwave2_Neale_Ophoff_bipolardisorder_exome/C2147/Exome/431-BG01077/v1/431-BG01077.cram\",\"gs://fc-6723cd5f-50f8-4828-a8e5-df42ad20af86/dalio_dutchwave2_Neale_Ophoff_bipolardisorder_exome/C2147/Exome/431-BG01274/v1/431-BG01274.cram\",\"gs://fc-6723cd5f-50f8-4828-a8e5-df42ad20af86/dalio_dutchwave2_Neale_Ophoff_bipolardisorder_exome/C2147/Exome/431-BG01320/v1/431-BG01320.cram\"]\n",
    "\n",
    "path_access = [] # for file paths that are accessible \n",
    "path_no_access = [] # for file paths that are NOT accessible \n",
    "\n",
    "# #with hl.hadoop_open('gs://imary116/data/cram_paths.txt') as paths:\n",
    "for path in paths:\n",
    "    if path_works(path):\n",
    "        path_access.append(path)\n",
    "    else:\n",
    "        path_no_access.append(path)"
   ]
  },
  {
   "cell_type": "markdown",
   "id": "preliminary-height",
   "metadata": {},
   "source": [
    "### Part 1: by region"
   ]
  },
  {
   "cell_type": "code",
   "execution_count": 2,
   "id": "descending-landing",
   "metadata": {},
   "outputs": [],
   "source": [
    "# pdos IDs \n",
    "pdos = [\"PDO-1294\", \"PDO-17148\", \"PDO-17294\", \"PDO-17755\", \"PDO-17756\", \"PDO-19811\", \"PDO-2980\", \"PDO-4831\", \"PDO-529\", \"PDO-6098\", \"PDO-6099\", \"PDO-6569\", \"PDO-6706\", \"PDO-6979\", \"PDO-74\", \"PDO-7756\", \"PDO-925\"] "
   ]
  },
  {
   "cell_type": "code",
   "execution_count": 3,
   "id": "shaped-mountain",
   "metadata": {},
   "outputs": [],
   "source": [
    "path = 'gs://imary116/data/sampled100_per_pdo/output_files/coverage/region/' # path to files \n",
    "ext = '_region.ht' # file extension \n",
    "\n",
    "\n",
    "full_pdo_paths = [path + s + ext for s in pdos] # make a complete path to pdo files "
   ]
  },
  {
   "cell_type": "code",
   "execution_count": 4,
   "id": "hawaiian-tobacco",
   "metadata": {},
   "outputs": [
    {
     "name": "stderr",
     "output_type": "stream",
     "text": [
      "Initializing Hail with default parameters...\n",
      "Running on Apache Spark version 3.1.1\n",
      "SparkUI available at http://mty-m.c.daly-neale-sczmeta.internal:44109\n",
      "Welcome to\n",
      "     __  __     <>__\n",
      "    / /_/ /__  __/ /\n",
      "   / __  / _ `/ / /\n",
      "  /_/ /_/\\_,_/_/_/   version 0.2.65-367cf1874d85\n",
      "LOGGING: writing to /home/hail/hail-20210430-1618-0.2.65-367cf1874d85.log\n",
      "2021-04-30 16:19:07 Hail: WARN: Name collision: field 'sample' already in object dict. \n",
      "  This field must be referenced with __getitem__ syntax: obj['sample']\n"
     ]
    },
    {
     "data": {
      "text/plain": [
       "1583374080"
      ]
     },
     "execution_count": 4,
     "metadata": {},
     "output_type": "execute_result"
    }
   ],
   "source": [
    "# read all pdo hail tables as one \n",
    "tables = [hl.read_table(t) for t in full_pdo_paths]\n",
    "region_ht = hl.Table.union(*tables)\n",
    "\n",
    "# sanity check \n",
    "region_ht.count() #1583374080 \n",
    "# the above # is correct because we are looking at 1237011 regions (bed file) across all pdos (1280 samples in total) \n",
    "# 1237011*1280 = 1583374080"
   ]
  },
  {
   "cell_type": "code",
   "execution_count": 5,
   "id": "eight-outside",
   "metadata": {},
   "outputs": [
    {
     "data": {
      "text/html": [
       "<table><thead><tr><td style=\"white-space: nowrap; max-width: 500px; overflow: hidden; text-overflow: ellipsis; \" colspan=\"1\"><div style=\"text-align: left;\"></div></td><td style=\"white-space: nowrap; max-width: 500px; overflow: hidden; text-overflow: ellipsis; \" colspan=\"1\"><div style=\"text-align: left;\"></div></td><td style=\"white-space: nowrap; max-width: 500px; overflow: hidden; text-overflow: ellipsis; \" colspan=\"1\"><div style=\"text-align: left;\"></div></td><td style=\"white-space: nowrap; max-width: 500px; overflow: hidden; text-overflow: ellipsis; \" colspan=\"1\"><div style=\"text-align: left;\"></div></td><td style=\"white-space: nowrap; max-width: 500px; overflow: hidden; text-overflow: ellipsis; \" colspan=\"1\"><div style=\"text-align: left;\"></div></td></tr><tr><td style=\"white-space: nowrap; max-width: 500px; overflow: hidden; text-overflow: ellipsis; \" colspan=\"1\"><div style=\"text-align: left;border-bottom: solid 2px #000; padding-bottom: 5px\">f0</div></td><td style=\"white-space: nowrap; max-width: 500px; overflow: hidden; text-overflow: ellipsis; \" colspan=\"1\"><div style=\"text-align: left;border-bottom: solid 2px #000; padding-bottom: 5px\">f1</div></td><td style=\"white-space: nowrap; max-width: 500px; overflow: hidden; text-overflow: ellipsis; \" colspan=\"1\"><div style=\"text-align: left;border-bottom: solid 2px #000; padding-bottom: 5px\">f2</div></td><td style=\"white-space: nowrap; max-width: 500px; overflow: hidden; text-overflow: ellipsis; \" colspan=\"1\"><div style=\"text-align: left;border-bottom: solid 2px #000; padding-bottom: 5px\">f3</div></td><td style=\"white-space: nowrap; max-width: 500px; overflow: hidden; text-overflow: ellipsis; \" colspan=\"1\"><div style=\"text-align: left;border-bottom: solid 2px #000; padding-bottom: 5px\">sample</div></td></tr><tr><td style=\"white-space: nowrap; max-width: 500px; overflow: hidden; text-overflow: ellipsis; text-align: left;\">str</td><td style=\"white-space: nowrap; max-width: 500px; overflow: hidden; text-overflow: ellipsis; text-align: left;\">int32</td><td style=\"white-space: nowrap; max-width: 500px; overflow: hidden; text-overflow: ellipsis; text-align: left;\">int32</td><td style=\"white-space: nowrap; max-width: 500px; overflow: hidden; text-overflow: ellipsis; text-align: left;\">float64</td><td style=\"white-space: nowrap; max-width: 500px; overflow: hidden; text-overflow: ellipsis; text-align: left;\">str</td></tr>\n",
       "</thead><tbody><tr><td style=\"white-space: nowrap; max-width: 500px; overflow: hidden; text-overflow: ellipsis; \">&quot;chr1&quot;</td><td style=\"white-space: nowrap; max-width: 500px; overflow: hidden; text-overflow: ellipsis; \">11869</td><td style=\"white-space: nowrap; max-width: 500px; overflow: hidden; text-overflow: ellipsis; \">12227</td><td style=\"white-space: nowrap; max-width: 500px; overflow: hidden; text-overflow: ellipsis; \">8.00e-01</td><td style=\"white-space: nowrap; max-width: 500px; overflow: hidden; text-overflow: ellipsis; \">&quot;MH0126699&quot;</td></tr>\n",
       "<tr><td style=\"white-space: nowrap; max-width: 500px; overflow: hidden; text-overflow: ellipsis; \">&quot;chr1&quot;</td><td style=\"white-space: nowrap; max-width: 500px; overflow: hidden; text-overflow: ellipsis; \">12010</td><td style=\"white-space: nowrap; max-width: 500px; overflow: hidden; text-overflow: ellipsis; \">12057</td><td style=\"white-space: nowrap; max-width: 500px; overflow: hidden; text-overflow: ellipsis; \">2.80e-01</td><td style=\"white-space: nowrap; max-width: 500px; overflow: hidden; text-overflow: ellipsis; \">&quot;MH0126699&quot;</td></tr>\n",
       "<tr><td style=\"white-space: nowrap; max-width: 500px; overflow: hidden; text-overflow: ellipsis; \">&quot;chr1&quot;</td><td style=\"white-space: nowrap; max-width: 500px; overflow: hidden; text-overflow: ellipsis; \">12179</td><td style=\"white-space: nowrap; max-width: 500px; overflow: hidden; text-overflow: ellipsis; \">12227</td><td style=\"white-space: nowrap; max-width: 500px; overflow: hidden; text-overflow: ellipsis; \">1.00e+00</td><td style=\"white-space: nowrap; max-width: 500px; overflow: hidden; text-overflow: ellipsis; \">&quot;MH0126699&quot;</td></tr>\n",
       "<tr><td style=\"white-space: nowrap; max-width: 500px; overflow: hidden; text-overflow: ellipsis; \">&quot;chr1&quot;</td><td style=\"white-space: nowrap; max-width: 500px; overflow: hidden; text-overflow: ellipsis; \">12613</td><td style=\"white-space: nowrap; max-width: 500px; overflow: hidden; text-overflow: ellipsis; \">12721</td><td style=\"white-space: nowrap; max-width: 500px; overflow: hidden; text-overflow: ellipsis; \">6.10e+00</td><td style=\"white-space: nowrap; max-width: 500px; overflow: hidden; text-overflow: ellipsis; \">&quot;MH0126699&quot;</td></tr>\n",
       "<tr><td style=\"white-space: nowrap; max-width: 500px; overflow: hidden; text-overflow: ellipsis; \">&quot;chr1&quot;</td><td style=\"white-space: nowrap; max-width: 500px; overflow: hidden; text-overflow: ellipsis; \">12613</td><td style=\"white-space: nowrap; max-width: 500px; overflow: hidden; text-overflow: ellipsis; \">12697</td><td style=\"white-space: nowrap; max-width: 500px; overflow: hidden; text-overflow: ellipsis; \">6.46e+00</td><td style=\"white-space: nowrap; max-width: 500px; overflow: hidden; text-overflow: ellipsis; \">&quot;MH0126699&quot;</td></tr>\n",
       "</tbody></table><p style=\"background: #fdd; padding: 0.4em;\">showing top 5 rows</p>\n"
      ],
      "text/plain": [
       "+--------+-------+-------+----------+-------------+\n",
       "| f0     |    f1 |    f2 |       f3 | sample      |\n",
       "+--------+-------+-------+----------+-------------+\n",
       "| str    | int32 | int32 |  float64 | str         |\n",
       "+--------+-------+-------+----------+-------------+\n",
       "| \"chr1\" | 11869 | 12227 | 8.00e-01 | \"MH0126699\" |\n",
       "| \"chr1\" | 12010 | 12057 | 2.80e-01 | \"MH0126699\" |\n",
       "| \"chr1\" | 12179 | 12227 | 1.00e+00 | \"MH0126699\" |\n",
       "| \"chr1\" | 12613 | 12721 | 6.10e+00 | \"MH0126699\" |\n",
       "| \"chr1\" | 12613 | 12697 | 6.46e+00 | \"MH0126699\" |\n",
       "+--------+-------+-------+----------+-------------+\n",
       "showing top 5 rows"
      ]
     },
     "metadata": {},
     "output_type": "display_data"
    }
   ],
   "source": [
    "region_ht.show(5)"
   ]
  },
  {
   "cell_type": "code",
   "execution_count": 5,
   "id": "static-reunion",
   "metadata": {},
   "outputs": [
    {
     "name": "stderr",
     "output_type": "stream",
     "text": [
      "2021-04-30 16:20:02 Hail: INFO: Reading table to impute column types\n",
      "2021-04-30 16:20:07 Hail: INFO: Finished type imputation\n",
      "  Loading field 'pdo' as type str (imputed)\n",
      "  Loading field 'cram' as type str (imputed)\n",
      "  Loading field 'sample_ID' as type str (imputed)\n"
     ]
    }
   ],
   "source": [
    "# import tsv file with pdo membership, cram paths and sample_ID for annotation purposes \n",
    "annot_table = hl.import_table('gs://imary116/data/sampled100_per_pdo/input_files/pdo17_crampath_sampleID.tsv', impute =True, delimiter='\\t').key_by('sample_ID')"
   ]
  },
  {
   "cell_type": "code",
   "execution_count": 7,
   "id": "special-raise",
   "metadata": {},
   "outputs": [
    {
     "data": {
      "text/html": [
       "<table><thead><tr><td style=\"white-space: nowrap; max-width: 500px; overflow: hidden; text-overflow: ellipsis; \" colspan=\"1\"><div style=\"text-align: left;\"></div></td><td style=\"white-space: nowrap; max-width: 500px; overflow: hidden; text-overflow: ellipsis; \" colspan=\"1\"><div style=\"text-align: left;\"></div></td><td style=\"white-space: nowrap; max-width: 500px; overflow: hidden; text-overflow: ellipsis; \" colspan=\"1\"><div style=\"text-align: left;\"></div></td></tr><tr><td style=\"white-space: nowrap; max-width: 500px; overflow: hidden; text-overflow: ellipsis; \" colspan=\"1\"><div style=\"text-align: left;border-bottom: solid 2px #000; padding-bottom: 5px\">pdo</div></td><td style=\"white-space: nowrap; max-width: 500px; overflow: hidden; text-overflow: ellipsis; \" colspan=\"1\"><div style=\"text-align: left;border-bottom: solid 2px #000; padding-bottom: 5px\">cram</div></td><td style=\"white-space: nowrap; max-width: 500px; overflow: hidden; text-overflow: ellipsis; \" colspan=\"1\"><div style=\"text-align: left;border-bottom: solid 2px #000; padding-bottom: 5px\">sample_ID</div></td></tr><tr><td style=\"white-space: nowrap; max-width: 500px; overflow: hidden; text-overflow: ellipsis; text-align: left;\">str</td><td style=\"white-space: nowrap; max-width: 500px; overflow: hidden; text-overflow: ellipsis; text-align: left;\">str</td><td style=\"white-space: nowrap; max-width: 500px; overflow: hidden; text-overflow: ellipsis; text-align: left;\">str</td></tr>\n",
       "</thead><tbody><tr><td style=\"white-space: nowrap; max-width: 500px; overflow: hidden; text-overflow: ellipsis; \">&quot;PDO-6569&quot;</td><td style=\"white-space: nowrap; max-width: 500px; overflow: hidden; text-overflow: ellipsis; \">&quot;gs://fc-56e5af0e-4889-4845-a04e-1d07c7c60fb2/GPC_Pato_Latino_AA_WES/C1629/Exome/00C04941/v1/00C04941.cram&quot;</td><td style=\"white-space: nowrap; max-width: 500px; overflow: hidden; text-overflow: ellipsis; \">&quot;00C04941&quot;</td></tr>\n",
       "<tr><td style=\"white-space: nowrap; max-width: 500px; overflow: hidden; text-overflow: ellipsis; \">&quot;PDO-6706&quot;</td><td style=\"white-space: nowrap; max-width: 500px; overflow: hidden; text-overflow: ellipsis; \">&quot;gs://fc-56e5af0e-4889-4845-a04e-1d07c7c60fb2/GPC_Pato_Latino_AA_WES/C1928/Exome/02C10755/v1/02C10755.cram&quot;</td><td style=\"white-space: nowrap; max-width: 500px; overflow: hidden; text-overflow: ellipsis; \">&quot;02C10755&quot;</td></tr>\n",
       "<tr><td style=\"white-space: nowrap; max-width: 500px; overflow: hidden; text-overflow: ellipsis; \">&quot;PDO-6569&quot;</td><td style=\"white-space: nowrap; max-width: 500px; overflow: hidden; text-overflow: ellipsis; \">&quot;gs://fc-56e5af0e-4889-4845-a04e-1d07c7c60fb2/GPC_Pato_Latino_AA_WES/C1629/Exome/02C12137/v1/02C12137.cram&quot;</td><td style=\"white-space: nowrap; max-width: 500px; overflow: hidden; text-overflow: ellipsis; \">&quot;02C12137&quot;</td></tr>\n",
       "<tr><td style=\"white-space: nowrap; max-width: 500px; overflow: hidden; text-overflow: ellipsis; \">&quot;PDO-6569&quot;</td><td style=\"white-space: nowrap; max-width: 500px; overflow: hidden; text-overflow: ellipsis; \">&quot;gs://fc-56e5af0e-4889-4845-a04e-1d07c7c60fb2/GPC_Pato_Latino_AA_WES/C1629/Exome/03C17467/v1/03C17467.cram&quot;</td><td style=\"white-space: nowrap; max-width: 500px; overflow: hidden; text-overflow: ellipsis; \">&quot;03C17467&quot;</td></tr>\n",
       "<tr><td style=\"white-space: nowrap; max-width: 500px; overflow: hidden; text-overflow: ellipsis; \">&quot;PDO-6706&quot;</td><td style=\"white-space: nowrap; max-width: 500px; overflow: hidden; text-overflow: ellipsis; \">&quot;gs://fc-56e5af0e-4889-4845-a04e-1d07c7c60fb2/GPC_Pato_Latino_AA_WES/C1928/Exome/03C20282/v1/03C20282.cram&quot;</td><td style=\"white-space: nowrap; max-width: 500px; overflow: hidden; text-overflow: ellipsis; \">&quot;03C20282&quot;</td></tr>\n",
       "</tbody></table><p style=\"background: #fdd; padding: 0.4em;\">showing top 5 rows</p>\n"
      ],
      "text/plain": [
       "+------------+\n",
       "| pdo        |\n",
       "+------------+\n",
       "| str        |\n",
       "+------------+\n",
       "| \"PDO-6569\" |\n",
       "| \"PDO-6706\" |\n",
       "| \"PDO-6569\" |\n",
       "| \"PDO-6569\" |\n",
       "| \"PDO-6706\" |\n",
       "+------------+\n",
       "\n",
       "+------------------------------------------------------------------------------+\n",
       "| cram                                                                         |\n",
       "+------------------------------------------------------------------------------+\n",
       "| str                                                                          |\n",
       "+------------------------------------------------------------------------------+\n",
       "| \"gs://fc-56e5af0e-4889-4845-a04e-1d07c7c60fb2/GPC_Pato_Latino_AA_WES/C162... |\n",
       "| \"gs://fc-56e5af0e-4889-4845-a04e-1d07c7c60fb2/GPC_Pato_Latino_AA_WES/C192... |\n",
       "| \"gs://fc-56e5af0e-4889-4845-a04e-1d07c7c60fb2/GPC_Pato_Latino_AA_WES/C162... |\n",
       "| \"gs://fc-56e5af0e-4889-4845-a04e-1d07c7c60fb2/GPC_Pato_Latino_AA_WES/C162... |\n",
       "| \"gs://fc-56e5af0e-4889-4845-a04e-1d07c7c60fb2/GPC_Pato_Latino_AA_WES/C192... |\n",
       "+------------------------------------------------------------------------------+\n",
       "\n",
       "+------------+\n",
       "| sample_ID  |\n",
       "+------------+\n",
       "| str        |\n",
       "+------------+\n",
       "| \"00C04941\" |\n",
       "| \"02C10755\" |\n",
       "| \"02C12137\" |\n",
       "| \"03C17467\" |\n",
       "| \"03C20282\" |\n",
       "+------------+\n",
       "showing top 5 rows"
      ]
     },
     "metadata": {},
     "output_type": "display_data"
    }
   ],
   "source": [
    "annot_table.show(5)"
   ]
  },
  {
   "cell_type": "code",
   "execution_count": 6,
   "id": "uniform-radiation",
   "metadata": {},
   "outputs": [],
   "source": [
    "region_ht = region_ht.annotate(pdo = annot_table[region_ht['sample']].pdo)\n",
    "\n",
    "# sanity check \n",
    "#region_ht.aggregate(hl.agg.collect_as_set(region_ht.pdo)) # all pdos are there \n",
    "#region_ht.aggregate(hl.agg.counter(region_ht.pdo)) # num of records for each pdo - should add up to 1583374080 (ht.count()) "
   ]
  },
  {
   "cell_type": "code",
   "execution_count": 9,
   "id": "intended-bubble",
   "metadata": {},
   "outputs": [
    {
     "name": "stderr",
     "output_type": "stream",
     "text": [
      "2021-04-30 15:53:24 Hail: INFO: Coerced sorted dataset\n",
      "2021-04-30 15:53:24 Hail: INFO: Coerced dataset with out-of-order partitions.\n",
      "2021-04-30 15:53:24 Hail: INFO: Ordering unsorted dataset with network shuffle\n"
     ]
    },
    {
     "data": {
      "text/html": [
       "<table><thead><tr><td style=\"white-space: nowrap; max-width: 500px; overflow: hidden; text-overflow: ellipsis; \" colspan=\"1\"><div style=\"text-align: left;\"></div></td><td style=\"white-space: nowrap; max-width: 500px; overflow: hidden; text-overflow: ellipsis; \" colspan=\"1\"><div style=\"text-align: left;\"></div></td><td style=\"white-space: nowrap; max-width: 500px; overflow: hidden; text-overflow: ellipsis; \" colspan=\"1\"><div style=\"text-align: left;\"></div></td><td style=\"white-space: nowrap; max-width: 500px; overflow: hidden; text-overflow: ellipsis; \" colspan=\"1\"><div style=\"text-align: left;\"></div></td><td style=\"white-space: nowrap; max-width: 500px; overflow: hidden; text-overflow: ellipsis; \" colspan=\"1\"><div style=\"text-align: left;\"></div></td><td style=\"white-space: nowrap; max-width: 500px; overflow: hidden; text-overflow: ellipsis; \" colspan=\"1\"><div style=\"text-align: left;\"></div></td></tr><tr><td style=\"white-space: nowrap; max-width: 500px; overflow: hidden; text-overflow: ellipsis; \" colspan=\"1\"><div style=\"text-align: left;border-bottom: solid 2px #000; padding-bottom: 5px\">f0</div></td><td style=\"white-space: nowrap; max-width: 500px; overflow: hidden; text-overflow: ellipsis; \" colspan=\"1\"><div style=\"text-align: left;border-bottom: solid 2px #000; padding-bottom: 5px\">f1</div></td><td style=\"white-space: nowrap; max-width: 500px; overflow: hidden; text-overflow: ellipsis; \" colspan=\"1\"><div style=\"text-align: left;border-bottom: solid 2px #000; padding-bottom: 5px\">f2</div></td><td style=\"white-space: nowrap; max-width: 500px; overflow: hidden; text-overflow: ellipsis; \" colspan=\"1\"><div style=\"text-align: left;border-bottom: solid 2px #000; padding-bottom: 5px\">f3</div></td><td style=\"white-space: nowrap; max-width: 500px; overflow: hidden; text-overflow: ellipsis; \" colspan=\"1\"><div style=\"text-align: left;border-bottom: solid 2px #000; padding-bottom: 5px\">sample</div></td><td style=\"white-space: nowrap; max-width: 500px; overflow: hidden; text-overflow: ellipsis; \" colspan=\"1\"><div style=\"text-align: left;border-bottom: solid 2px #000; padding-bottom: 5px\">pdo</div></td></tr><tr><td style=\"white-space: nowrap; max-width: 500px; overflow: hidden; text-overflow: ellipsis; text-align: left;\">str</td><td style=\"white-space: nowrap; max-width: 500px; overflow: hidden; text-overflow: ellipsis; text-align: left;\">int32</td><td style=\"white-space: nowrap; max-width: 500px; overflow: hidden; text-overflow: ellipsis; text-align: left;\">int32</td><td style=\"white-space: nowrap; max-width: 500px; overflow: hidden; text-overflow: ellipsis; text-align: left;\">float64</td><td style=\"white-space: nowrap; max-width: 500px; overflow: hidden; text-overflow: ellipsis; text-align: left;\">str</td><td style=\"white-space: nowrap; max-width: 500px; overflow: hidden; text-overflow: ellipsis; text-align: left;\">str</td></tr>\n",
       "</thead><tbody><tr><td style=\"white-space: nowrap; max-width: 500px; overflow: hidden; text-overflow: ellipsis; \">&quot;chr1&quot;</td><td style=\"white-space: nowrap; max-width: 500px; overflow: hidden; text-overflow: ellipsis; \">11869</td><td style=\"white-space: nowrap; max-width: 500px; overflow: hidden; text-overflow: ellipsis; \">12227</td><td style=\"white-space: nowrap; max-width: 500px; overflow: hidden; text-overflow: ellipsis; \">5.94e+01</td><td style=\"white-space: nowrap; max-width: 500px; overflow: hidden; text-overflow: ellipsis; \">&quot;00C04941&quot;</td><td style=\"white-space: nowrap; max-width: 500px; overflow: hidden; text-overflow: ellipsis; \">&quot;PDO-6569&quot;</td></tr>\n",
       "<tr><td style=\"white-space: nowrap; max-width: 500px; overflow: hidden; text-overflow: ellipsis; \">&quot;chr1&quot;</td><td style=\"white-space: nowrap; max-width: 500px; overflow: hidden; text-overflow: ellipsis; \">12010</td><td style=\"white-space: nowrap; max-width: 500px; overflow: hidden; text-overflow: ellipsis; \">12057</td><td style=\"white-space: nowrap; max-width: 500px; overflow: hidden; text-overflow: ellipsis; \">2.94e+01</td><td style=\"white-space: nowrap; max-width: 500px; overflow: hidden; text-overflow: ellipsis; \">&quot;00C04941&quot;</td><td style=\"white-space: nowrap; max-width: 500px; overflow: hidden; text-overflow: ellipsis; \">&quot;PDO-6569&quot;</td></tr>\n",
       "<tr><td style=\"white-space: nowrap; max-width: 500px; overflow: hidden; text-overflow: ellipsis; \">&quot;chr1&quot;</td><td style=\"white-space: nowrap; max-width: 500px; overflow: hidden; text-overflow: ellipsis; \">12179</td><td style=\"white-space: nowrap; max-width: 500px; overflow: hidden; text-overflow: ellipsis; \">12227</td><td style=\"white-space: nowrap; max-width: 500px; overflow: hidden; text-overflow: ellipsis; \">1.29e+02</td><td style=\"white-space: nowrap; max-width: 500px; overflow: hidden; text-overflow: ellipsis; \">&quot;00C04941&quot;</td><td style=\"white-space: nowrap; max-width: 500px; overflow: hidden; text-overflow: ellipsis; \">&quot;PDO-6569&quot;</td></tr>\n",
       "<tr><td style=\"white-space: nowrap; max-width: 500px; overflow: hidden; text-overflow: ellipsis; \">&quot;chr1&quot;</td><td style=\"white-space: nowrap; max-width: 500px; overflow: hidden; text-overflow: ellipsis; \">12613</td><td style=\"white-space: nowrap; max-width: 500px; overflow: hidden; text-overflow: ellipsis; \">12721</td><td style=\"white-space: nowrap; max-width: 500px; overflow: hidden; text-overflow: ellipsis; \">2.36e+02</td><td style=\"white-space: nowrap; max-width: 500px; overflow: hidden; text-overflow: ellipsis; \">&quot;00C04941&quot;</td><td style=\"white-space: nowrap; max-width: 500px; overflow: hidden; text-overflow: ellipsis; \">&quot;PDO-6569&quot;</td></tr>\n",
       "<tr><td style=\"white-space: nowrap; max-width: 500px; overflow: hidden; text-overflow: ellipsis; \">&quot;chr1&quot;</td><td style=\"white-space: nowrap; max-width: 500px; overflow: hidden; text-overflow: ellipsis; \">12613</td><td style=\"white-space: nowrap; max-width: 500px; overflow: hidden; text-overflow: ellipsis; \">12697</td><td style=\"white-space: nowrap; max-width: 500px; overflow: hidden; text-overflow: ellipsis; \">2.40e+02</td><td style=\"white-space: nowrap; max-width: 500px; overflow: hidden; text-overflow: ellipsis; \">&quot;00C04941&quot;</td><td style=\"white-space: nowrap; max-width: 500px; overflow: hidden; text-overflow: ellipsis; \">&quot;PDO-6569&quot;</td></tr>\n",
       "</tbody></table><p style=\"background: #fdd; padding: 0.4em;\">showing top 5 rows</p>\n"
      ],
      "text/plain": [
       "+--------+-------+-------+----------+------------+------------+\n",
       "| f0     |    f1 |    f2 |       f3 | sample     | pdo        |\n",
       "+--------+-------+-------+----------+------------+------------+\n",
       "| str    | int32 | int32 |  float64 | str        | str        |\n",
       "+--------+-------+-------+----------+------------+------------+\n",
       "| \"chr1\" | 11869 | 12227 | 5.94e+01 | \"00C04941\" | \"PDO-6569\" |\n",
       "| \"chr1\" | 12010 | 12057 | 2.94e+01 | \"00C04941\" | \"PDO-6569\" |\n",
       "| \"chr1\" | 12179 | 12227 | 1.29e+02 | \"00C04941\" | \"PDO-6569\" |\n",
       "| \"chr1\" | 12613 | 12721 | 2.36e+02 | \"00C04941\" | \"PDO-6569\" |\n",
       "| \"chr1\" | 12613 | 12697 | 2.40e+02 | \"00C04941\" | \"PDO-6569\" |\n",
       "+--------+-------+-------+----------+------------+------------+\n",
       "showing top 5 rows"
      ]
     },
     "metadata": {},
     "output_type": "display_data"
    }
   ],
   "source": [
    "region_ht.show(5)"
   ]
  },
  {
   "cell_type": "code",
   "execution_count": 7,
   "id": "antique-official",
   "metadata": {},
   "outputs": [
    {
     "name": "stdout",
     "output_type": "stream",
     "text": [
      "----------------------------------------\n",
      "Global fields:\n",
      "    None\n",
      "----------------------------------------\n",
      "Row fields:\n",
      "    'f0': str \n",
      "    'f1': int32 \n",
      "    'f2': int32 \n",
      "    'f3': float64 \n",
      "    'sample': str \n",
      "    'pdo': str \n",
      "----------------------------------------\n",
      "Key: []\n",
      "----------------------------------------\n"
     ]
    }
   ],
   "source": [
    "region_ht.describe()"
   ]
  },
  {
   "cell_type": "code",
   "execution_count": 8,
   "id": "standing-event",
   "metadata": {},
   "outputs": [],
   "source": [
    "# if the mean coverage (f3 column) >= 10, annotate it with a 1 and if it is not, annotate with a 0\n",
    "region_ht = region_ht.annotate(mean_coverage10 = hl.if_else(region_ht.f3 >= 10,1,0))"
   ]
  },
  {
   "cell_type": "code",
   "execution_count": 13,
   "id": "pleasant-services",
   "metadata": {},
   "outputs": [
    {
     "name": "stderr",
     "output_type": "stream",
     "text": [
      "2021-04-30 15:56:05 Hail: INFO: Coerced sorted dataset\n",
      "2021-04-30 15:56:05 Hail: INFO: Coerced dataset with out-of-order partitions.\n",
      "2021-04-30 15:56:05 Hail: INFO: Ordering unsorted dataset with network shuffle\n",
      "2021-04-30 15:56:54 Hail: INFO: Coerced sorted dataset\n",
      "2021-04-30 15:56:55 Hail: INFO: Ordering unsorted dataset with network shuffle\n"
     ]
    },
    {
     "data": {
      "text/html": [
       "<table><thead><tr><td style=\"white-space: nowrap; max-width: 500px; overflow: hidden; text-overflow: ellipsis; \" colspan=\"1\"><div style=\"text-align: left;\"></div></td><td style=\"white-space: nowrap; max-width: 500px; overflow: hidden; text-overflow: ellipsis; \" colspan=\"1\"><div style=\"text-align: left;\"></div></td><td style=\"white-space: nowrap; max-width: 500px; overflow: hidden; text-overflow: ellipsis; \" colspan=\"1\"><div style=\"text-align: left;\"></div></td><td style=\"white-space: nowrap; max-width: 500px; overflow: hidden; text-overflow: ellipsis; \" colspan=\"1\"><div style=\"text-align: left;\"></div></td><td style=\"white-space: nowrap; max-width: 500px; overflow: hidden; text-overflow: ellipsis; \" colspan=\"1\"><div style=\"text-align: left;\"></div></td><td style=\"white-space: nowrap; max-width: 500px; overflow: hidden; text-overflow: ellipsis; \" colspan=\"1\"><div style=\"text-align: left;\"></div></td><td style=\"white-space: nowrap; max-width: 500px; overflow: hidden; text-overflow: ellipsis; \" colspan=\"1\"><div style=\"text-align: left;\"></div></td></tr><tr><td style=\"white-space: nowrap; max-width: 500px; overflow: hidden; text-overflow: ellipsis; \" colspan=\"1\"><div style=\"text-align: left;border-bottom: solid 2px #000; padding-bottom: 5px\">f0</div></td><td style=\"white-space: nowrap; max-width: 500px; overflow: hidden; text-overflow: ellipsis; \" colspan=\"1\"><div style=\"text-align: left;border-bottom: solid 2px #000; padding-bottom: 5px\">f1</div></td><td style=\"white-space: nowrap; max-width: 500px; overflow: hidden; text-overflow: ellipsis; \" colspan=\"1\"><div style=\"text-align: left;border-bottom: solid 2px #000; padding-bottom: 5px\">f2</div></td><td style=\"white-space: nowrap; max-width: 500px; overflow: hidden; text-overflow: ellipsis; \" colspan=\"1\"><div style=\"text-align: left;border-bottom: solid 2px #000; padding-bottom: 5px\">f3</div></td><td style=\"white-space: nowrap; max-width: 500px; overflow: hidden; text-overflow: ellipsis; \" colspan=\"1\"><div style=\"text-align: left;border-bottom: solid 2px #000; padding-bottom: 5px\">sample</div></td><td style=\"white-space: nowrap; max-width: 500px; overflow: hidden; text-overflow: ellipsis; \" colspan=\"1\"><div style=\"text-align: left;border-bottom: solid 2px #000; padding-bottom: 5px\">pdo</div></td><td style=\"white-space: nowrap; max-width: 500px; overflow: hidden; text-overflow: ellipsis; \" colspan=\"1\"><div style=\"text-align: left;border-bottom: solid 2px #000; padding-bottom: 5px\">mean_coverage10</div></td></tr><tr><td style=\"white-space: nowrap; max-width: 500px; overflow: hidden; text-overflow: ellipsis; text-align: left;\">str</td><td style=\"white-space: nowrap; max-width: 500px; overflow: hidden; text-overflow: ellipsis; text-align: left;\">int32</td><td style=\"white-space: nowrap; max-width: 500px; overflow: hidden; text-overflow: ellipsis; text-align: left;\">int32</td><td style=\"white-space: nowrap; max-width: 500px; overflow: hidden; text-overflow: ellipsis; text-align: left;\">float64</td><td style=\"white-space: nowrap; max-width: 500px; overflow: hidden; text-overflow: ellipsis; text-align: left;\">str</td><td style=\"white-space: nowrap; max-width: 500px; overflow: hidden; text-overflow: ellipsis; text-align: left;\">str</td><td style=\"white-space: nowrap; max-width: 500px; overflow: hidden; text-overflow: ellipsis; text-align: left;\">int32</td></tr>\n",
       "</thead><tbody><tr><td style=\"white-space: nowrap; max-width: 500px; overflow: hidden; text-overflow: ellipsis; \">&quot;chr1&quot;</td><td style=\"white-space: nowrap; max-width: 500px; overflow: hidden; text-overflow: ellipsis; \">11869</td><td style=\"white-space: nowrap; max-width: 500px; overflow: hidden; text-overflow: ellipsis; \">12227</td><td style=\"white-space: nowrap; max-width: 500px; overflow: hidden; text-overflow: ellipsis; \">5.94e+01</td><td style=\"white-space: nowrap; max-width: 500px; overflow: hidden; text-overflow: ellipsis; \">&quot;00C04941&quot;</td><td style=\"white-space: nowrap; max-width: 500px; overflow: hidden; text-overflow: ellipsis; \">&quot;PDO-6569&quot;</td><td style=\"white-space: nowrap; max-width: 500px; overflow: hidden; text-overflow: ellipsis; \">1</td></tr>\n",
       "<tr><td style=\"white-space: nowrap; max-width: 500px; overflow: hidden; text-overflow: ellipsis; \">&quot;chr1&quot;</td><td style=\"white-space: nowrap; max-width: 500px; overflow: hidden; text-overflow: ellipsis; \">12010</td><td style=\"white-space: nowrap; max-width: 500px; overflow: hidden; text-overflow: ellipsis; \">12057</td><td style=\"white-space: nowrap; max-width: 500px; overflow: hidden; text-overflow: ellipsis; \">2.94e+01</td><td style=\"white-space: nowrap; max-width: 500px; overflow: hidden; text-overflow: ellipsis; \">&quot;00C04941&quot;</td><td style=\"white-space: nowrap; max-width: 500px; overflow: hidden; text-overflow: ellipsis; \">&quot;PDO-6569&quot;</td><td style=\"white-space: nowrap; max-width: 500px; overflow: hidden; text-overflow: ellipsis; \">1</td></tr>\n",
       "<tr><td style=\"white-space: nowrap; max-width: 500px; overflow: hidden; text-overflow: ellipsis; \">&quot;chr1&quot;</td><td style=\"white-space: nowrap; max-width: 500px; overflow: hidden; text-overflow: ellipsis; \">12179</td><td style=\"white-space: nowrap; max-width: 500px; overflow: hidden; text-overflow: ellipsis; \">12227</td><td style=\"white-space: nowrap; max-width: 500px; overflow: hidden; text-overflow: ellipsis; \">1.29e+02</td><td style=\"white-space: nowrap; max-width: 500px; overflow: hidden; text-overflow: ellipsis; \">&quot;00C04941&quot;</td><td style=\"white-space: nowrap; max-width: 500px; overflow: hidden; text-overflow: ellipsis; \">&quot;PDO-6569&quot;</td><td style=\"white-space: nowrap; max-width: 500px; overflow: hidden; text-overflow: ellipsis; \">1</td></tr>\n",
       "<tr><td style=\"white-space: nowrap; max-width: 500px; overflow: hidden; text-overflow: ellipsis; \">&quot;chr1&quot;</td><td style=\"white-space: nowrap; max-width: 500px; overflow: hidden; text-overflow: ellipsis; \">12613</td><td style=\"white-space: nowrap; max-width: 500px; overflow: hidden; text-overflow: ellipsis; \">12721</td><td style=\"white-space: nowrap; max-width: 500px; overflow: hidden; text-overflow: ellipsis; \">2.36e+02</td><td style=\"white-space: nowrap; max-width: 500px; overflow: hidden; text-overflow: ellipsis; \">&quot;00C04941&quot;</td><td style=\"white-space: nowrap; max-width: 500px; overflow: hidden; text-overflow: ellipsis; \">&quot;PDO-6569&quot;</td><td style=\"white-space: nowrap; max-width: 500px; overflow: hidden; text-overflow: ellipsis; \">1</td></tr>\n",
       "<tr><td style=\"white-space: nowrap; max-width: 500px; overflow: hidden; text-overflow: ellipsis; \">&quot;chr1&quot;</td><td style=\"white-space: nowrap; max-width: 500px; overflow: hidden; text-overflow: ellipsis; \">12613</td><td style=\"white-space: nowrap; max-width: 500px; overflow: hidden; text-overflow: ellipsis; \">12697</td><td style=\"white-space: nowrap; max-width: 500px; overflow: hidden; text-overflow: ellipsis; \">2.40e+02</td><td style=\"white-space: nowrap; max-width: 500px; overflow: hidden; text-overflow: ellipsis; \">&quot;00C04941&quot;</td><td style=\"white-space: nowrap; max-width: 500px; overflow: hidden; text-overflow: ellipsis; \">&quot;PDO-6569&quot;</td><td style=\"white-space: nowrap; max-width: 500px; overflow: hidden; text-overflow: ellipsis; \">1</td></tr>\n",
       "</tbody></table><p style=\"background: #fdd; padding: 0.4em;\">showing top 5 rows</p>\n"
      ],
      "text/plain": [
       "+--------+-------+-------+----------+------------+------------+\n",
       "| f0     |    f1 |    f2 |       f3 | sample     | pdo        |\n",
       "+--------+-------+-------+----------+------------+------------+\n",
       "| str    | int32 | int32 |  float64 | str        | str        |\n",
       "+--------+-------+-------+----------+------------+------------+\n",
       "| \"chr1\" | 11869 | 12227 | 5.94e+01 | \"00C04941\" | \"PDO-6569\" |\n",
       "| \"chr1\" | 12010 | 12057 | 2.94e+01 | \"00C04941\" | \"PDO-6569\" |\n",
       "| \"chr1\" | 12179 | 12227 | 1.29e+02 | \"00C04941\" | \"PDO-6569\" |\n",
       "| \"chr1\" | 12613 | 12721 | 2.36e+02 | \"00C04941\" | \"PDO-6569\" |\n",
       "| \"chr1\" | 12613 | 12697 | 2.40e+02 | \"00C04941\" | \"PDO-6569\" |\n",
       "+--------+-------+-------+----------+------------+------------+\n",
       "\n",
       "+-----------------+\n",
       "| mean_coverage10 |\n",
       "+-----------------+\n",
       "|           int32 |\n",
       "+-----------------+\n",
       "|               1 |\n",
       "|               1 |\n",
       "|               1 |\n",
       "|               1 |\n",
       "|               1 |\n",
       "+-----------------+\n",
       "showing top 5 rows"
      ]
     },
     "metadata": {},
     "output_type": "display_data"
    }
   ],
   "source": [
    "region_ht.show(5)"
   ]
  },
  {
   "cell_type": "code",
   "execution_count": 9,
   "id": "revolutionary-continuity",
   "metadata": {},
   "outputs": [],
   "source": [
    "# For each region (chr:start:end), calculate the proportion of samples that have a mean coverage >=10 \n",
    "# total number of samples in the same reagion that have mean coverage of >=10 (mean_cov10), total number of samples within that region (total), and the proportion which is mean_cov10 divided by the total (proportion)\n",
    "prop_by_region = region_ht.group_by(region_ht.f0,region_ht.f1,region_ht.f2).aggregate(mean_cov10 = hl.agg.count_where(region_ht.mean_coverage10 == 1),\n",
    "                                                                                      total = hl.agg.count(),\n",
    "                                                                                      proportion = hl.agg.fraction(region_ht.mean_coverage10 == 1))\n"
   ]
  },
  {
   "cell_type": "code",
   "execution_count": null,
   "id": "suited-investigator",
   "metadata": {},
   "outputs": [],
   "source": [
    "prop_by_region.show(5)"
   ]
  },
  {
   "cell_type": "markdown",
   "id": "nonprofit-mathematics",
   "metadata": {},
   "source": [
    "### Part 2: by sample"
   ]
  },
  {
   "cell_type": "code",
   "execution_count": 11,
   "id": "sustainable-thomson",
   "metadata": {},
   "outputs": [],
   "source": [
    "# calculate the length of each interval (f2 - f1) \n",
    "region_ht = region_ht.annotate(region_len = region_ht.f2 - region_ht.f1)"
   ]
  },
  {
   "cell_type": "code",
   "execution_count": null,
   "id": "understood-contamination",
   "metadata": {},
   "outputs": [],
   "source": [
    "region_ht.show(5)"
   ]
  },
  {
   "cell_type": "code",
   "execution_count": 12,
   "id": "fifteen-membrane",
   "metadata": {},
   "outputs": [],
   "source": [
    "# add up the interval values per sample (total)\n",
    "# multiply the 1 v 0 column (mean_coverage10) with the length of the interval (region_len) and then add the values up (meancov10_sum) \n",
    "interval_sum_by_sample = region_ht.group_by('sample').aggregate(\n",
    "    meancov10_sum = hl.agg.sum(region_ht.mean_coverage10 * region_ht.region_len),\n",
    "    total = hl.agg.sum(region_ht.region_len))\n",
    "\n",
    "# calculate the proportion \n",
    "interval_sum_by_sample = interval_sum_by_sample.annotate(prop = interval_sum_by_sample.meancov10_sum/interval_sum_by_sample.total)"
   ]
  },
  {
   "cell_type": "code",
   "execution_count": null,
   "id": "beautiful-kentucky",
   "metadata": {},
   "outputs": [],
   "source": [
    "interval_sum_by_sample.show(5)"
   ]
  },
  {
   "cell_type": "markdown",
   "id": "distant-pressure",
   "metadata": {},
   "source": [
    "-"
   ]
  },
  {
   "cell_type": "markdown",
   "id": "revolutionary-tradition",
   "metadata": {},
   "source": [
    "-"
   ]
  },
  {
   "cell_type": "code",
   "execution_count": null,
   "id": "respected-attendance",
   "metadata": {},
   "outputs": [],
   "source": [
    "pdo_interval_sum_by_sample = interval_sum_by_sample.annotate(pdo = pdo_cram_annot[interval_sum_by_sample['sample']].pdo)\n",
    "\n",
    "#pdo_interval_sum_by_sample = interval_sum_by_sample.annotate(**pdo_cram_annot[interval_sum_by_sample['sample']])"
   ]
  },
  {
   "cell_type": "code",
   "execution_count": null,
   "id": "finnish-conditions",
   "metadata": {},
   "outputs": [],
   "source": [
    "pdo_interval_sum_by_sample.show(5)"
   ]
  },
  {
   "cell_type": "code",
   "execution_count": null,
   "id": "downtown-placement",
   "metadata": {},
   "outputs": [],
   "source": []
  }
 ],
 "metadata": {
  "kernelspec": {
   "display_name": "Python 3",
   "language": "python",
   "name": "python3"
  },
  "language_info": {
   "codemirror_mode": {
    "name": "ipython",
    "version": 3
   },
   "file_extension": ".py",
   "mimetype": "text/x-python",
   "name": "python",
   "nbconvert_exporter": "python",
   "pygments_lexer": "ipython3",
   "version": "3.8.8"
  }
 },
 "nbformat": 4,
 "nbformat_minor": 5
}