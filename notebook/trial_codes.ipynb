{
 "cells": [
  {
   "cell_type": "markdown",
   "metadata": {},
   "source": [
    "# *These codes were implemented in scripts - this notebook is only for trial purposes*"
   ]
  },
  {
   "cell_type": "markdown",
   "metadata": {},
   "source": [
    "### check if file paths are accessible and save to respective files "
   ]
  },
  {
   "cell_type": "code",
   "execution_count": 1,
   "metadata": {},
   "outputs": [],
   "source": [
    "import subprocess\n",
    "\n",
    "# if the path is accessible, return 'True' if not return 'False'\n",
    "def path_works(path):\n",
    "    if subprocess.call(['gsutil', 'ls', path]) == 0:\n",
    "        return(True)\n",
    "    else:\n",
    "        return(False)"
   ]
  },
  {
   "cell_type": "markdown",
   "metadata": {},
   "source": [
    "### append to lists "
   ]
  },
  {
   "cell_type": "code",
   "execution_count": 15,
   "metadata": {},
   "outputs": [],
   "source": [
    "import hail as hl \n",
    "\n",
    "path_access = [] # for file paths that are accessible \n",
    "path_no_access = [] # for file paths that are NOT accessible \n",
    "\n",
    "# go line by line in the file and sort w/c paths are accessible and w/c are not, and then append paths to separate lists \n",
    "with open(\"/Users/myohanne/Desktop/Broad/tj/exomecov/data/cram_paths10.txt\", \"r\") as input_file:\n",
    "    for path in input_file:\n",
    "        path = path.replace('\"', '').strip() # formating \n",
    "        if path_works(path):\n",
    "            path_access.append(path)\n",
    "        else:\n",
    "            path_no_access.append(path)"
   ]
  },
  {
   "cell_type": "markdown",
   "metadata": {},
   "source": [
    "### save to files "
   ]
  },
  {
   "cell_type": "code",
   "execution_count": 16,
   "metadata": {},
   "outputs": [],
   "source": [
    "import hail as hl \n",
    "\n",
    "# go line by line in the file and sort w/c paths are accessible and w/c are not, then save them into separate files\n",
    "with open(\"/Users/myohanne/Desktop/Broad/tj/exomecov/data/cram_paths10.txt\", \"r\") as input_file, open('/Users/myohanne/Desktop/Broad/tj/exomecov/data/access_paths.txt', 'w') as output_access, open('/Users/myohanne/Desktop/Broad/tj/exomecov/data/no_access_paths.txt', 'w') as output_no_access:\n",
    "    for path in input_file:\n",
    "        path = path.replace('\"', '').strip() # formating \n",
    "        if path_works(path):\n",
    "            output_access.write(f'{path}\\n')\n",
    "        else:\n",
    "            output_no_access.write(f'{path}\\n')"
   ]
  },
  {
   "cell_type": "markdown",
   "metadata": {},
   "source": [
    "-"
   ]
  },
  {
   "cell_type": "markdown",
   "metadata": {},
   "source": [
    "### run mosdepth automatically for each pdo "
   ]
  },
  {
   "cell_type": "code",
   "execution_count": 92,
   "metadata": {},
   "outputs": [],
   "source": [
    "import hail as hl \n",
    "pdo_list = []\n",
    "path_list = []\n",
    "with open('/Users/myohanne/Desktop/Broad/tj/exomecov/data/sampled100_per_pdo/pdo25_crampath_sampleID.tsv') as cram_file_paths:\n",
    "    cram_file_paths.readline() # skip the header \n",
    "    for row in cram_file_paths:\n",
    "        row = row.strip() # remove space at end of each row \n",
    "        pdo, path, sample_id = row.split('\\t') # for each row, split the three column values into three variables   \n",
    "        pdo_list.append(pdo)\n",
    "        path_list.append(path)\n",
    "        \n",
    "# allows you to specify the default object type of a missing key (such as a list)\n",
    "# missing key will always be a list and if a key already exists, then it will just be appended to\n",
    "from collections import defaultdict\n",
    "file_dict = defaultdict(list) \n",
    "\n",
    "for pdo, path in zip(pdo_list, path_list):\n",
    "    file_dict[pdo].append(path)"
   ]
  },
  {
   "cell_type": "code",
   "execution_count": 106,
   "metadata": {},
   "outputs": [
    {
     "name": "stdout",
     "output_type": "stream",
     "text": [
      "True\n",
      "True\n"
     ]
    }
   ],
   "source": [
    "#sanity check \n",
    "print(len(file_dict) == len(set(pdo_list))) # True - 25 pdos in total \n",
    "\n",
    "count = 0\n",
    "for x in file_dict:\n",
    "    count += len(file_dict[x]) # count number of paths under each pdo and add them up  \n",
    "print(count == len(pdo_list) == len(path_list)) # True - 1944 sample paths in total across 25 pdos "
   ]
  },
  {
   "cell_type": "markdown",
   "metadata": {},
   "source": [
    "### junk codes "
   ]
  },
  {
   "cell_type": "code",
   "execution_count": 109,
   "metadata": {},
   "outputs": [
    {
     "data": {
      "text/plain": [
       "defaultdict(list, {'a': [1, 2], 'b': [4, 5], 'c': [3]})"
      ]
     },
     "execution_count": 109,
     "metadata": {},
     "output_type": "execute_result"
    }
   ],
   "source": [
    "# example code \n",
    "keys = ['a', 'a', 'b', 'b', 'c']\n",
    "values = [1, 2, 4, 5, 3]\n",
    "dictionary = zip(keys, values)\n",
    "# print(dictionary) # {'a': 1, 'b': 2, 'c': 3}\n",
    "\n",
    "# allows you to specify the default object type of a missing key (such as a list)\n",
    "# missing key will always be a list and if a key already exists, then it will just be appended to\n",
    "from collections import defaultdict\n",
    "d = defaultdict(list) \n",
    "\n",
    "for keys, values in zip(keys, values):\n",
    "    d[keys].append(values)\n",
    "d"
   ]
  },
  {
   "cell_type": "code",
   "execution_count": null,
   "metadata": {},
   "outputs": [],
   "source": [
    "# TJ's recommendation code  \n",
    "file_dict = {}\n",
    "with hl.hadoop_open('gs://imary116/data/sampled100_per_pdo/input_files/sampled100.txt') as cram_file_paths:\n",
    "    for line in cram_file_paths:\n",
    "        line = line.strip()\n",
    "        pdo, path = line.split('\\'t)\n",
    "        if pdo not in file_dict:\n",
    "            file_dict[pdo] = []\n",
    "        file_dict[pdo].append(path)\n",
    "\n",
    "file_dict.keys() # all the pdos\n",
    "for path in file_dict['pdo_123123']:\n",
    "    print(path)\n",
    "\n",
    "for key in file_dict:\n",
    "    for path in file_dict[key]:\n",
    "        # all of the paths..."
   ]
  }
 ],
 "metadata": {
  "kernelspec": {
   "display_name": "Python 3",
   "language": "python",
   "name": "python3"
  },
  "language_info": {
   "codemirror_mode": {
    "name": "ipython",
    "version": 3
   },
   "file_extension": ".py",
   "mimetype": "text/x-python",
   "name": "python",
   "nbconvert_exporter": "python",
   "pygments_lexer": "ipython3",
   "version": "3.7.9"
  }
 },
 "nbformat": 4,
 "nbformat_minor": 4
}
