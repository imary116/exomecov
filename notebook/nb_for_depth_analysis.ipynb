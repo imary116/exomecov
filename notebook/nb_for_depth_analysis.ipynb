{
 "cells": [
  {
   "cell_type": "markdown",
   "metadata": {},
   "source": [
    "# check if file paths are accessible and save to respective files "
   ]
  },
  {
   "cell_type": "code",
   "execution_count": 1,
   "metadata": {},
   "outputs": [],
   "source": [
    "import subprocess\n",
    "\n",
    "# if the path is accessible, return 'True' if not return 'False'\n",
    "def path_works(path):\n",
    "    if subprocess.call(['gsutil', 'ls', path]) == 0:\n",
    "        return(True)\n",
    "    else:\n",
    "        return(False)"
   ]
  },
  {
   "cell_type": "markdown",
   "metadata": {},
   "source": [
    "# append to lists "
   ]
  },
  {
   "cell_type": "code",
   "execution_count": 15,
   "metadata": {},
   "outputs": [],
   "source": [
    "import hail as hl \n",
    "\n",
    "path_access = [] # for file paths that are accessible \n",
    "path_no_access = [] # for file paths that are NOT accessible \n",
    "\n",
    "# go line by line in the file and sort w/c paths are accessible and w/c are not, and then append paths to separate lists \n",
    "with open(\"/Users/myohanne/Desktop/Broad/tj/exomecov/data/cram_paths10.txt\", \"r\") as input_file:\n",
    "    for path in input_file:\n",
    "        path = path.replace('\"', '').strip() # formating \n",
    "        if path_works(path):\n",
    "            path_access.append(path)\n",
    "        else:\n",
    "            path_no_access.append(path)"
   ]
  },
  {
   "cell_type": "markdown",
   "metadata": {},
   "source": [
    "# save to files "
   ]
  },
  {
   "cell_type": "code",
   "execution_count": 16,
   "metadata": {},
   "outputs": [],
   "source": [
    "import hail as hl \n",
    "\n",
    "# go line by line in the file and sort w/c paths are accessible and w/c are not, then save them into separate files\n",
    "with open(\"/Users/myohanne/Desktop/Broad/tj/exomecov/data/cram_paths10.txt\", \"r\") as input_file, open('/Users/myohanne/Desktop/Broad/tj/exomecov/data/access_paths.txt', 'w') as output_access, open('/Users/myohanne/Desktop/Broad/tj/exomecov/data/no_access_paths.txt', 'w') as output_no_access:\n",
    "    for path in input_file:\n",
    "        path = path.replace('\"', '').strip() # formating \n",
    "        if path_works(path):\n",
    "            output_access.write(f'{path}\\n')\n",
    "        else:\n",
    "            output_no_access.write(f'{path}\\n')"
   ]
  },
  {
   "cell_type": "markdown",
   "metadata": {},
   "source": [
    "-"
   ]
  },
  {
   "cell_type": "markdown",
   "metadata": {},
   "source": [
    "-"
   ]
  },
  {
   "cell_type": "code",
   "execution_count": null,
   "metadata": {},
   "outputs": [],
   "source": [
    "import os \n",
    "with open('/Users/myohanne/Desktop/Broad/tj/exomecov/data/grouped_all_group_subsample.tsv') as cram_file_paths:  # file with paths to the group files that have the paths to the sampled cram files \n",
    "    for path in cram_file_paths:\n",
    "        path = path.strip().strip('\"\"') # preprocess path\n",
    "        label = os.path.splitext(os.path.basename(path))[0]  # only get the file name - without path (removed by os.path.basename) and '.cram' ext (removed by os.path.splitext) ex output: JP-RIK-C-00070\n",
    "        print(len(label)) # add sample label to the list\n"
   ]
  },
  {
   "cell_type": "code",
   "execution_count": null,
   "metadata": {},
   "outputs": [],
   "source": []
  }
 ],
 "metadata": {
  "kernelspec": {
   "display_name": "Python 3",
   "language": "python",
   "name": "python3"
  },
  "language_info": {
   "codemirror_mode": {
    "name": "ipython",
    "version": 3
   },
   "file_extension": ".py",
   "mimetype": "text/x-python",
   "name": "python",
   "nbconvert_exporter": "python",
   "pygments_lexer": "ipython3",
   "version": "3.7.9"
  }
 },
 "nbformat": 4,
 "nbformat_minor": 4
}
