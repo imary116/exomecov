{
 "cells": [
  {
   "cell_type": "code",
   "execution_count": 52,
   "metadata": {},
   "outputs": [],
   "source": [
    "import subprocess\n",
    "\n",
    "# if the path is accessible, return 'True' if not return 'False'\n",
    "def path_works(path):\n",
    "    if subprocess.call(['gsutil', 'ls', path]) == 0:\n",
    "        return(True)\n",
    "    else:\n",
    "        return(False)"
   ]
  },
  {
   "cell_type": "code",
   "execution_count": 118,
   "metadata": {},
   "outputs": [],
   "source": [
    "import hail as hl \n",
    "\n",
    "#paths =[\"gs://fc-1b3c48d4-1260-4477-ab89-9944a365a545/SCZ_Pulver_JHU_WES/C1622/Exome/P887751002D/v1/P887751002D.cram\",\"gs://fc-6723cd5f-50f8-4828-a8e5-df42ad20af86/dalio_dutchwave2_Neale_Ophoff_bipolardisorder_exome/C2147/Exome/431-BG01077/v1/431-BG01077.cram\",\"gs://fc-6723cd5f-50f8-4828-a8e5-df42ad20af86/dalio_dutchwave2_Neale_Ophoff_bipolardisorder_exome/C2147/Exome/431-BG01274/v1/431-BG01274.cram\",\"gs://fc-6723cd5f-50f8-4828-a8e5-df42ad20af86/dalio_dutchwave2_Neale_Ophoff_bipolardisorder_exome/C2147/Exome/431-BG01320/v1/431-BG01320.cram\"]\n",
    "\n",
    "path_access = [] # for file paths that are accessible \n",
    "path_no_access = [] # for file paths that are NOT accessible \n",
    "#p =[]\n",
    "\n",
    "with open(\"/Users/myohanne/Desktop/Broad/tj/exomecov/data/cram_paths10.txt\", \"r\") as file:\n",
    "    #paths = file.readlines()\n",
    "    for path in file:\n",
    "        #p.append(path.rstrip('\\n'))\n",
    "        path = path.replace('\"', '').strip()\n",
    "        if path_works(path):\n",
    "            path_access.append(path)\n",
    "        else:\n",
    "            path_no_access.append(path)"
   ]
  },
  {
   "cell_type": "code",
   "execution_count": 108,
   "metadata": {},
   "outputs": [],
   "source": [
    "#subprocess.check_output(['ls', '/Users/tsingh']).decode().split('\\n')\n",
    "\n",
    "paths = [\"gs://fc-1b3c48d4-1260-4477-ab89-9944a365a545/SCZ_Pulver_JHU_WES/C1622/Exome/P887751002D/v1/P887751002D.cram\",\n",
    "         \"gs://fc-2cf4360b-93a5-47f5-bbb3-912a91c596e1/dalio_cardiffwave1_Neale_ODonovan_schizophrenia_exome_/C2077/Exome/JW29003-1/v2/JW29003-1.cram\"]\n",
    "\n",
    "keep_paths = []\n",
    "no_path_access = []\n",
    "for path in paths:\n",
    "    if path_works(path):\n",
    "        keep_paths.append(path)\n",
    "    else:\n",
    "        no_path_access.append(path)"
   ]
  },
  {
   "cell_type": "code",
   "execution_count": 109,
   "metadata": {},
   "outputs": [
    {
     "data": {
      "text/plain": [
       "['gs://fc-1b3c48d4-1260-4477-ab89-9944a365a545/SCZ_Pulver_JHU_WES/C1622/Exome/P887751002D/v1/P887751002D.cram']"
      ]
     },
     "execution_count": 109,
     "metadata": {},
     "output_type": "execute_result"
    }
   ],
   "source": [
    "keep_paths"
   ]
  },
  {
   "cell_type": "code",
   "execution_count": 110,
   "metadata": {},
   "outputs": [
    {
     "data": {
      "text/plain": [
       "['gs://fc-2cf4360b-93a5-47f5-bbb3-912a91c596e1/dalio_cardiffwave1_Neale_ODonovan_schizophrenia_exome_/C2077/Exome/JW29003-1/v2/JW29003-1.cram']"
      ]
     },
     "execution_count": 110,
     "metadata": {},
     "output_type": "execute_result"
    }
   ],
   "source": [
    "no_path_access"
   ]
  }
 ],
 "metadata": {
  "kernelspec": {
   "display_name": "Python 3",
   "language": "python",
   "name": "python3"
  },
  "language_info": {
   "codemirror_mode": {
    "name": "ipython",
    "version": 3
   },
   "file_extension": ".py",
   "mimetype": "text/x-python",
   "name": "python",
   "nbconvert_exporter": "python",
   "pygments_lexer": "ipython3",
   "version": "3.7.9"
  }
 },
 "nbformat": 4,
 "nbformat_minor": 4
}
